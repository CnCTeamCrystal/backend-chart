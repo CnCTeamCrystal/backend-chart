{
 "cells": [
  {
   "cell_type": "code",
   "execution_count": null,
   "metadata": {},
   "outputs": [],
   "source": [
    "\n",
    "# coding: utf-8\n",
    "\n",
    "# In[ ]:\n",
    "\n",
    "\n",
    "import time\n",
    "from flask import Flask\n",
    "from flask import request\n",
    "import json\n",
    "from flask import jsonify\n",
    "#import request\n",
    "from six.moves import urllib\n",
    "from bs4 import BeautifulSoup\n",
    "\n",
    "app = Flask(__name__)\n",
    "@app.route('/chart', methods=['GET'])\n",
    "def chart():\n",
    "    stockItem = '005930'\n",
    "\n",
    "    url = 'http://finance.naver.com/item/sise_day.nhn?code='+ stockItem\n",
    "    html = urllib.request.urlopen(url)\n",
    "    source = BeautifulSoup(html.read(), \"html.parser\")\n",
    "    maxPage=source.find_all(\"table\",align=\"center\")\n",
    "    mp = maxPage[0].find_all(\"td\",class_=\"pgRR\")\n",
    "    #mpNum = int(mp[0].a.get('href')[-3:])\n",
    "    mpNum = 5\n",
    "    result = []\n",
    "    for page in range(1, mpNum+1):\n",
    "    #    print (str(page) )\n",
    "        url = 'http://finance.naver.com/item/sise_day.nhn?code=' + stockItem +'&page='+ str(page)\n",
    "        html = urllib.request.urlopen(url)\n",
    "        source = BeautifulSoup(html.read(), \"html.parser\")\n",
    "        srlists=source.find_all(\"tr\")\n",
    "        isCheckNone = None\n",
    "\n",
    "   # if((page % 1) == 0):\n",
    "   #     time.sleep(1.50)\n",
    "   #len(srlists)-1\n",
    "        for i in range(1,len(srlists)-1):\n",
    "            if(srlists[i].span != isCheckNone):\n",
    "                srlists[i].td.text\n",
    "#                print(srlists[i].find_all(\"td\",align=\"center\")[0].string)\n",
    "                srlist ={'center':srlists[i].find_all(\"td\",align=\"center\")[0].string,'num':srlists[i].find_all(\"td\",class_=\"num\")[0].string}\n",
    "                result.append(srlist)\n",
    "    jsf = json.dumps(result, ensure_ascii=False)\n",
    "    return app.response_class(response=jsf , status=200,mimetype = 'application/json')\n",
    "#    return \"hello world\"\n",
    "\n",
    "if __name__ == '__main__':\n",
    "    app.run(host=\"0.0.0.0\" , port=int(\"8080\"))\n",
    "\n"
   ]
  }
 ],
 "metadata": {
  "kernelspec": {
   "display_name": "Python 2",
   "language": "python",
   "name": "python2"
  },
  "language_info": {
   "codemirror_mode": {
    "name": "ipython",
    "version": 2
   },
   "file_extension": ".py",
   "mimetype": "text/x-python",
   "name": "python",
   "nbconvert_exporter": "python",
   "pygments_lexer": "ipython2",
   "version": "2.7.12"
  }
 },
 "nbformat": 4,
 "nbformat_minor": 2
}
